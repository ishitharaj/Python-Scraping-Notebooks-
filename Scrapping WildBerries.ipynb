{
 "cells": [
  {
   "cell_type": "markdown",
   "metadata": {},
   "source": [
    "# Scrapping WildBerries"
   ]
  },
  {
   "cell_type": "code",
   "execution_count": 11,
   "metadata": {},
   "outputs": [],
   "source": [
    "import bs4\n",
    "from bs4 import BeautifulSoup\n",
    "import requests\n",
    "import pandas\n",
    "from pandas import DataFrame\n",
    "import csv"
   ]
  },
  {
   "cell_type": "code",
   "execution_count": 10,
   "metadata": {},
   "outputs": [],
   "source": [
    "# Function that scrappes a website catalog in multiple pages\n",
    "def scrapping(webpage, page_number):\n",
    "    next_page = webpage + str(page_number)\n",
    "    print(next_page)\n",
    "    response = requests.get(str(next_page))\n",
    "    \n",
    "    page_soup = BeautifulSoup(response.content,\"html.parser\")\n",
    "    container = page_soup.findAll(\"div\", {\"class\" : \"dtList i-dtList j-card-item\"})\n",
    "    hyperlink = page_soup.findAll(\"a\", {\"class\" : \"ref_goods_n_p\"})\n",
    "    imagelink = page_soup.findAll(\"img\", {\"class\" : \"thumbnail\"})\n",
    "    \n",
    "    \n",
    "    for x in range(0, 20, 2):\n",
    "        article_image.append(imagelink[x]['src'])\n",
    "    \n",
    "    for x in range(20, len(imagelink), 2):\n",
    "        article_image.append(imagelink[x]['data-original'])\n",
    "        \n",
    "    for x in range(len(container)):\n",
    "        article_link.append(hyperlink[x]['href'])\n",
    "    \n",
    "    if page_number < 50:\n",
    "        page_number += 1\n",
    "        scrapping(webpage, page_number)"
   ]
  },
  {
   "cell_type": "code",
   "execution_count": 12,
   "metadata": {
    "scrolled": false
   },
   "outputs": [],
   "source": [
    "article_image = []\n",
    "article_link = []\n",
    "\n",
    "# Start scrapping from page 1\n",
    "url = 'https://www.wildberries.ru/catalog/aksessuary/sumki-i-ryukzaki?page='\n",
    "scrapping(url, 1)\n",
    "\n",
    "# Saving data[image_link, hyperlink]) in csv file\n",
    "data = {'Article_Image': article_image, 'Article_Link' : article_link}\n",
    "df = DataFrame(data, columns = ['Article_Image', 'Article_Link'])\n"
   ]
  }
 ],
 "metadata": {
  "kernelspec": {
   "display_name": "Python 3",
   "language": "python",
   "name": "python3"
  },
  "language_info": {
   "codemirror_mode": {
    "name": "ipython",
    "version": 3
   },
   "file_extension": ".py",
   "mimetype": "text/x-python",
   "name": "python",
   "nbconvert_exporter": "python",
   "pygments_lexer": "ipython3",
   "version": "3.7.4"
  }
 },
 "nbformat": 4,
 "nbformat_minor": 2
}
