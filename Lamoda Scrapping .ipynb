{
 "cells": [
  {
   "cell_type": "markdown",
   "metadata": {},
   "source": [
    "# Lamoda Scrapping \n"
   ]
  },
  {
   "cell_type": "markdown",
   "metadata": {},
   "source": [
    "### Libraries "
   ]
  },
  {
   "cell_type": "code",
   "execution_count": 1,
   "metadata": {},
   "outputs": [],
   "source": [
    "import bs4\n",
    "from bs4 import BeautifulSoup\n",
    "import requests\n",
    "import pandas\n",
    "from pandas import DataFrame\n",
    "import csv"
   ]
  },
  {
   "cell_type": "markdown",
   "metadata": {},
   "source": [
    "### pages to scrape "
   ]
  },
  {
   "cell_type": "code",
   "execution_count": 2,
   "metadata": {},
   "outputs": [],
   "source": [
    "to_scrape = [\n",
    "    \"https://www.lamoda.ru/c/15/shoes-women/\",\n",
    "    \"https://www.lamoda.ru/c/399/clothes-bluzy-rubashki/\",\n",
    "    \"https://www.lamoda.ru/c/401/clothes-bryuki-shorty-kombinezony/\",\n",
    "    \"https://www.lamoda.ru/c/357/clothes-verkhnyaya-odezhda/\",\n",
    "    \"https://www.lamoda.ru/c/371/clothes-trikotazh/\",\n",
    "    \"https://www.lamoda.ru/c/397/clothes-d-insy/\",\n",
    "    \"https://www.lamoda.ru/c/369/clothes-platiya/\",\n",
    "    \"https://www.lamoda.ru/c/2474/clothes-tolstovki-olimpiyki/\",\n",
    "    \"https://www.lamoda.ru/c/2478/clothes-futbolki/\",\n",
    "    \"https://www.lamoda.ru/c/423/clothes-yubki/\",\n",
    "    \"https://www.lamoda.ru/c/2395/accs_ns-ochki/\",\n",
    "    \"https://www.lamoda.ru/c/785/accs-chasy/\",\n",
    "    \"https://www.lamoda.ru/c/567/bags-ryukzaki/\",\n",
    "    \"https://www.lamoda.ru/c/17/shoes-men/\",\n",
    "    \"https://www.lamoda.ru/c/517/clothes-muzhskie-bryuki/\",\n",
    "    \"https://www.lamoda.ru/c/479/clothes-muzhskaya-verkhnyaya-odezhda/\",\n",
    "    \"https://www.lamoda.ru/c/497/clothes-muzhskoy-trikotazh/\",\n",
    "    \"https://www.lamoda.ru/c/513/clothes-muzhskie-d-insy/\",\n",
    "    \"https://www.lamoda.ru/c/3043/clothes-pid-aki-kostumi-muzhskie/\",\n",
    "    \"https://www.lamoda.ru/c/515/clothes-muzhskie-rubashki-i-sorochki/\",\n",
    "    \"https://www.lamoda.ru/c/2508/clothes-tolstovki-i-olimpiyki/\",\n",
    "    \"https://www.lamoda.ru/c/2512/clothes-muzhskie-futbolki/\",\n",
    "    \"https://www.lamoda.ru/c/2396/accs_ns-ochki-myzskie/\",\n",
    "    \"https://www.lamoda.ru/c/595/bags-muzhskie-ryukzaki/\",\n",
    "    \"https://www.lamoda.ru/c/799/accs-muzhskie-chasy/\"\n",
    "\n",
    "]"
   ]
  },
  {
   "cell_type": "markdown",
   "metadata": {},
   "source": [
    "### scraper "
   ]
  },
  {
   "cell_type": "code",
   "execution_count": 3,
   "metadata": {},
   "outputs": [],
   "source": [
    "def scraper(link): \n",
    "    page_link = link\n",
    "    response = requests.get(page_link)\n",
    "    page_soup = BeautifulSoup(response.content,\"html.parser\")\n",
    "    \n",
    "    page_count = page_soup.findAll(\"div\", {\"class\" : \"paginator\"})\n",
    "    page_count_int = int(page_count[0]['data-pages'])\n",
    "    \n",
    "    alt_data = []\n",
    "    href_data = []\n",
    "    dwld_data = []\n",
    "        \n",
    "    for j in range(1, page_count_int+1):\n",
    "        local_page_link = page_link + '?page=' + str(j)\n",
    "        img_class = page_soup.findAll(\"img\", {\"class\" : \"products-list-item__img\"})\n",
    "        hrefs = page_soup.findAll(\"a\", {\"class\" : \"products-list-item__link link\"})\n",
    "        img_alt = page_soup.findAll(\"a\", {\"class\" : \"products-list-item__link link\"})\n",
    "\n",
    "        \n",
    "        for i in range(len(img_class)):\n",
    "            alt_data.append(img_class[i]['alt'])\n",
    "\n",
    "        for i in range(len(hrefs)):\n",
    "            href_data.append(hrefs[i]['href'])\n",
    "\n",
    "        for i in range(len(img_class)):\n",
    "            dwld_data.append(img_class[i]['src'])\n",
    "\n",
    "    data = {'alt_data': alt_data, 'href_data' : href_data, 'dwld_data':dwld_data}\n",
    "    df = DataFrame(data, columns = ['alt_data', 'href_data','dwld_data'])\n",
    "    return df\n"
   ]
  },
  {
   "cell_type": "code",
   "execution_count": 11,
   "metadata": {},
   "outputs": [
    {
     "name": "stdout",
     "output_type": "stream",
     "text": [
      "\n",
      "\n",
      "\n",
      "\n",
      "\n",
      "\n",
      "\n",
      "\n",
      "\n",
      "\n",
      "\n",
      "\n",
      "\n",
      "\n",
      "\n",
      "\n",
      "\n",
      "\n",
      "\n",
      "\n",
      "\n",
      "\n",
      "\n",
      "\n",
      "\n"
     ]
    }
   ],
   "source": []
  },
  {
   "cell_type": "code",
   "execution_count": null,
   "metadata": {},
   "outputs": [],
   "source": [
    "nam"
   ]
  },
  {
   "cell_type": "code",
   "execution_count": null,
   "metadata": {},
   "outputs": [],
   "source": [
    "'x'+0"
   ]
  },
  {
   "cell_type": "code",
   "execution_count": null,
   "metadata": {},
   "outputs": [],
   "source": []
  },
  {
   "cell_type": "code",
   "execution_count": null,
   "metadata": {},
   "outputs": [],
   "source": []
  }
 ],
 "metadata": {
  "kernelspec": {
   "display_name": "Python 3",
   "language": "python",
   "name": "python3"
  },
  "language_info": {
   "codemirror_mode": {
    "name": "ipython",
    "version": 3
   },
   "file_extension": ".py",
   "mimetype": "text/x-python",
   "name": "python",
   "nbconvert_exporter": "python",
   "pygments_lexer": "ipython3",
   "version": "3.7.4"
  }
 },
 "nbformat": 4,
 "nbformat_minor": 2
}
